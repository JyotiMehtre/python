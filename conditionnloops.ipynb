{
 "cells": [
  {
   "cell_type": "markdown",
   "id": "630fd341",
   "metadata": {},
   "source": [
    "#conditions"
   ]
  },
  {
   "cell_type": "code",
   "execution_count": 1,
   "id": "64bec298",
   "metadata": {},
   "outputs": [],
   "source": [
    "number:int = 50"
   ]
  },
  {
   "cell_type": "code",
   "execution_count": 2,
   "id": "7f338a71",
   "metadata": {},
   "outputs": [
    {
     "data": {
      "text/plain": [
       "0"
      ]
     },
     "execution_count": 2,
     "metadata": {},
     "output_type": "execute_result"
    }
   ],
   "source": [
    "#lets findout if the number is even or odd\n",
    "number % 2"
   ]
  },
  {
   "cell_type": "code",
   "execution_count": 3,
   "id": "26bad835",
   "metadata": {},
   "outputs": [
    {
     "data": {
      "text/plain": [
       "True"
      ]
     },
     "execution_count": 3,
     "metadata": {},
     "output_type": "execute_result"
    }
   ],
   "source": [
    "number % 2 ==0"
   ]
  },
  {
   "cell_type": "code",
   "execution_count": 5,
   "id": "09dc201e",
   "metadata": {},
   "outputs": [
    {
     "name": "stdout",
     "output_type": "stream",
     "text": [
      "this is even\n",
      "THis is odd \n"
     ]
    }
   ],
   "source": [
    "number % 2 == 0\n",
    "print(\"this is even\")\n",
    "print(\"THis is odd \")"
   ]
  },
  {
   "cell_type": "code",
   "execution_count": 2,
   "id": "901faa92",
   "metadata": {},
   "outputs": [
    {
     "name": "stdout",
     "output_type": "stream",
     "text": [
      "This is odd\n"
     ]
    }
   ],
   "source": [
    "number:int = int(input(\"Enter any number of your choice\"))\n",
    "if number % 2 ==0:\n",
    "    print(\"This is even\")\n",
    "else:\n",
    "    print(\"This is odd\")"
   ]
  },
  {
   "cell_type": "markdown",
   "id": "c04b632d",
   "metadata": {},
   "source": [
    "#Loops"
   ]
  },
  {
   "cell_type": "code",
   "execution_count": 7,
   "id": "b1d0eb60",
   "metadata": {},
   "outputs": [
    {
     "name": "stdout",
     "output_type": "stream",
     "text": [
      "1\n",
      "2\n",
      "3\n",
      "4\n",
      "5\n",
      "6\n",
      "7\n",
      "8\n",
      "9\n",
      "10\n"
     ]
    }
   ],
   "source": [
    "index:int = 1\n",
    "max =10\n",
    "while index <= max:\n",
    "    print(index)\n",
    "    index += 1"
   ]
  },
  {
   "cell_type": "code",
   "execution_count": 10,
   "id": "84f900be",
   "metadata": {},
   "outputs": [
    {
     "name": "stdout",
     "output_type": "stream",
     "text": [
      "1\n",
      "2\n",
      "3\n",
      "4\n",
      "5\n",
      "6\n",
      "7\n",
      "8\n",
      "9\n",
      "10\n",
      "11\n",
      "12\n",
      "13\n",
      "14\n",
      "15\n",
      "16\n",
      "17\n",
      "18\n",
      "19\n",
      "20\n"
     ]
    }
   ],
   "source": [
    "index = 1\n",
    "max = 20\n",
    "while index <= max:\n",
    "    print(index)\n",
    "    index += 1"
   ]
  },
  {
   "cell_type": "markdown",
   "id": "cd42eade",
   "metadata": {},
   "source": [
    "#project euler 1"
   ]
  },
  {
   "cell_type": "code",
   "execution_count": 12,
   "id": "3d8a3c31",
   "metadata": {},
   "outputs": [
    {
     "name": "stdout",
     "output_type": "stream",
     "text": [
      "233168\n"
     ]
    }
   ],
   "source": [
    "max = 999\n",
    "start = 1\n",
    "result = 0\n",
    "while start <=max:\n",
    "    if start % 3 == 0 or start % 5 == 0:\n",
    "        result += start\n",
    "    start += 1\n",
    "print(result)"
   ]
  },
  {
   "cell_type": "code",
   "execution_count": 14,
   "id": "45034b77",
   "metadata": {},
   "outputs": [
    {
     "name": "stdout",
     "output_type": "stream",
     "text": [
      "4613732\n"
     ]
    }
   ],
   "source": [
    "first = 1\n",
    "second = 2\n",
    "result = 2 # since in the exosting sequence we already have an even number2\n",
    "max = 4000000\n",
    "while first + second < max:\n",
    "    third = first + second\n",
    "    if third %2 == 0:\n",
    "        result += third\n",
    "    first = second\n",
    "    second = third\n",
    "print(result)\n"
   ]
  },
  {
   "cell_type": "markdown",
   "id": "c0c52377",
   "metadata": {},
   "source": [
    "#project Euler 3 \n",
    "\n",
    "*This problem has 3 things\n",
    "    *factors\n",
    "    *prime\n",
    "    *largest\n",
    "*To solve the largest part we reverse the order"
   ]
  },
  {
   "cell_type": "code",
   "execution_count": 20,
   "id": "6f406213",
   "metadata": {},
   "outputs": [],
   "source": [
    "def is_prime(number:int) -> bool:\n",
    "    \"\"\"Checks if the number is prime or not\n",
    "\n",
    "    Args:\n",
    "        number (int): number\n",
    "\n",
    "    Returns:\n",
    "        bool: True if prime False otherwise\n",
    "    \"\"\"\n",
    "    if number < 2:\n",
    "        return False\n",
    "    result = True\n",
    "    index = 2\n",
    "    while index <= number // 2:\n",
    "        if number % index == 0:\n",
    "            result = False\n",
    "            break\n",
    "        index += 1\n",
    "    return result\n"
   ]
  },
  {
   "cell_type": "code",
   "execution_count": 21,
   "id": "5b9c4f60",
   "metadata": {},
   "outputs": [
    {
     "name": "stdout",
     "output_type": "stream",
     "text": [
      "29\n"
     ]
    }
   ],
   "source": [
    "number = 13195\n",
    "index = number // 2\n",
    "result = 0\n",
    "while index >= 2:\n",
    "    if number % index == 0: # factor\n",
    "        if is_prime(index):\n",
    "            result = index\n",
    "            break\n",
    "    index -= 1\n",
    "print(result)"
   ]
  }
 ],
 "metadata": {
  "kernelspec": {
   "display_name": "Python 3",
   "language": "python",
   "name": "python3"
  },
  "language_info": {
   "codemirror_mode": {
    "name": "ipython",
    "version": 3
   },
   "file_extension": ".py",
   "mimetype": "text/x-python",
   "name": "python",
   "nbconvert_exporter": "python",
   "pygments_lexer": "ipython3",
   "version": "3.13.2"
  }
 },
 "nbformat": 4,
 "nbformat_minor": 5
}
