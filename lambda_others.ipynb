{
 "cells": [
  {
   "cell_type": "code",
   "execution_count": 1,
   "id": "81d94e1e",
   "metadata": {},
   "outputs": [],
   "source": [
    "double = lambda x: x * 2"
   ]
  },
  {
   "cell_type": "code",
   "execution_count": 2,
   "id": "449ede3c",
   "metadata": {},
   "outputs": [
    {
     "data": {
      "text/plain": [
       "8"
      ]
     },
     "execution_count": 2,
     "metadata": {},
     "output_type": "execute_result"
    }
   ],
   "source": [
    "double(4)"
   ]
  },
  {
   "cell_type": "code",
   "execution_count": 4,
   "id": "e279c917",
   "metadata": {},
   "outputs": [],
   "source": [
    "#Equivalent\n",
    "#def double(x:int) -> int:\n",
    "#   return x * 2\n"
   ]
  },
  {
   "cell_type": "code",
   "execution_count": 5,
   "id": "33c1d1b1",
   "metadata": {},
   "outputs": [
    {
     "data": {
      "text/plain": [
       "9"
      ]
     },
     "execution_count": 5,
     "metadata": {},
     "output_type": "execute_result"
    }
   ],
   "source": [
    "add = lambda x,y: x + y\n",
    "add(4,5)"
   ]
  },
  {
   "cell_type": "code",
   "execution_count": 6,
   "id": "55da0401",
   "metadata": {},
   "outputs": [],
   "source": [
    "hi = lambda name: f\"hello {name}\""
   ]
  },
  {
   "cell_type": "code",
   "execution_count": 7,
   "id": "c7d40aa5",
   "metadata": {},
   "outputs": [
    {
     "data": {
      "text/plain": [
       "'hello sunday'"
      ]
     },
     "execution_count": 7,
     "metadata": {},
     "output_type": "execute_result"
    }
   ],
   "source": [
    "hi(\"sunday\")"
   ]
  },
  {
   "cell_type": "code",
   "execution_count": 8,
   "id": "e18e4785",
   "metadata": {},
   "outputs": [],
   "source": [
    "numbers = [1,2,3,4,5]"
   ]
  },
  {
   "cell_type": "code",
   "execution_count": 9,
   "id": "053424a4",
   "metadata": {},
   "outputs": [
    {
     "data": {
      "text/plain": [
       "[1, 4, 9, 16, 25]"
      ]
     },
     "execution_count": 9,
     "metadata": {},
     "output_type": "execute_result"
    }
   ],
   "source": [
    "# map\n",
    "list(map(lambda x: x ** 2, numbers))"
   ]
  },
  {
   "cell_type": "code",
   "execution_count": 10,
   "id": "7f11020a",
   "metadata": {},
   "outputs": [
    {
     "data": {
      "text/plain": [
       "[1, 4, 9, 16, 25]"
      ]
     },
     "execution_count": 10,
     "metadata": {},
     "output_type": "execute_result"
    }
   ],
   "source": [
    "squared_numbers = []\n",
    "for number in numbers:\n",
    "    squared_numbers.append(number*number)\n",
    "squared_numbers"
   ]
  },
  {
   "cell_type": "code",
   "execution_count": 12,
   "id": "54cf4d00",
   "metadata": {},
   "outputs": [
    {
     "name": "stdout",
     "output_type": "stream",
     "text": [
      "[1, 2, 3, 4, 5]\n"
     ]
    },
    {
     "data": {
      "text/plain": [
       "[2, 4]"
      ]
     },
     "execution_count": 12,
     "metadata": {},
     "output_type": "execute_result"
    }
   ],
   "source": [
    "#filters\n",
    "print(numbers)\n",
    "list(filter(lambda x: x%2 == 0, numbers))"
   ]
  },
  {
   "cell_type": "code",
   "execution_count": 13,
   "id": "2d07ab23",
   "metadata": {},
   "outputs": [
    {
     "data": {
      "text/plain": [
       "[4, 16, 36, 64, 100]"
      ]
     },
     "execution_count": 13,
     "metadata": {},
     "output_type": "execute_result"
    }
   ],
   "source": [
    "# square of even numbers in the list\n",
    "numbers = [1,2,3,4,5,6,7,8,9,10]\n",
    "even_numbers = list(filter(lambda x: x%2 == 0, numbers))\n",
    "list(map(lambda x: x**2, even_numbers))"
   ]
  },
  {
   "cell_type": "code",
   "execution_count": 14,
   "id": "a41b4bce",
   "metadata": {},
   "outputs": [
    {
     "data": {
      "text/plain": [
       "30"
      ]
     },
     "execution_count": 14,
     "metadata": {},
     "output_type": "execute_result"
    }
   ],
   "source": [
    "# reduce \n",
    "from functools import reduce\n",
    "reduce(lambda x,y: x+y, even_numbers)"
   ]
  },
  {
   "cell_type": "code",
   "execution_count": 15,
   "id": "c0865fe8",
   "metadata": {},
   "outputs": [
    {
     "name": "stdout",
     "output_type": "stream",
     "text": [
      "[1, 2, 3, 4, 5, 6, 7, 8, 9]\n"
     ]
    },
    {
     "data": {
      "text/plain": [
       "23"
      ]
     },
     "execution_count": 15,
     "metadata": {},
     "output_type": "execute_result"
    }
   ],
   "source": [
    "numbers = list(range(1,10))\n",
    "print(numbers)\n",
    "sum(filter(lambda x: x%3 == 0 or x % 5 == 0, numbers))"
   ]
  },
  {
   "cell_type": "code",
   "execution_count": 16,
   "id": "e2575400",
   "metadata": {},
   "outputs": [
    {
     "data": {
      "text/plain": [
       "120"
      ]
     },
     "execution_count": 16,
     "metadata": {},
     "output_type": "execute_result"
    }
   ],
   "source": [
    "from functools import reduce\n",
    "numbers = [1,2,3,4,5]\n",
    "\n",
    "reduce(lambda x,y: x * y, numbers)"
   ]
  },
  {
   "cell_type": "markdown",
   "id": "dd03b303",
   "metadata": {},
   "source": [
    "Comprehensions"
   ]
  },
  {
   "cell_type": "code",
   "execution_count": 17,
   "id": "b4ea7b68",
   "metadata": {},
   "outputs": [
    {
     "data": {
      "text/plain": [
       "[1, 4, 9, 16, 25]"
      ]
     },
     "execution_count": 17,
     "metadata": {},
     "output_type": "execute_result"
    }
   ],
   "source": [
    "#list comprehensions\n",
    "\n",
    "numbers = [1,2,3,4,5]\n",
    "[number * number for number in numbers]"
   ]
  },
  {
   "cell_type": "code",
   "execution_count": 18,
   "id": "237c3894",
   "metadata": {},
   "outputs": [
    {
     "data": {
      "text/plain": [
       "[4, 16]"
      ]
     },
     "execution_count": 18,
     "metadata": {},
     "output_type": "execute_result"
    }
   ],
   "source": [
    "\n",
    "[number * number for number in numbers if number % 2 == 0]"
   ]
  },
  {
   "cell_type": "code",
   "execution_count": 19,
   "id": "499539f8",
   "metadata": {},
   "outputs": [
    {
     "data": {
      "text/plain": [
       "23"
      ]
     },
     "execution_count": 19,
     "metadata": {},
     "output_type": "execute_result"
    }
   ],
   "source": [
    "numbers = list(range(1,10))\n",
    "sum([number for number in numbers if number % 3 == 0 or number % 5 == 0])"
   ]
  },
  {
   "cell_type": "code",
   "execution_count": 21,
   "id": "6524997b",
   "metadata": {},
   "outputs": [
    {
     "data": {
      "text/plain": [
       "233168"
      ]
     },
     "execution_count": 21,
     "metadata": {},
     "output_type": "execute_result"
    }
   ],
   "source": [
    "sum([number for number in range(1,1000) if number % 3 == 0 or number % 5 == 0])"
   ]
  },
  {
   "cell_type": "code",
   "execution_count": 22,
   "id": "d7ba1be0",
   "metadata": {},
   "outputs": [
    {
     "data": {
      "text/plain": [
       "[1, 4, 9, 16, 25, 36, 49, 64, 81, 100]"
      ]
     },
     "execution_count": 22,
     "metadata": {},
     "output_type": "execute_result"
    }
   ],
   "source": [
    "[ number * number for number in range(1,11)]"
   ]
  },
  {
   "cell_type": "code",
   "execution_count": 26,
   "id": "be9665b9",
   "metadata": {},
   "outputs": [
    {
     "data": {
      "text/plain": [
       "[1,\n",
       " 4,\n",
       " 9,\n",
       " 16,\n",
       " 25,\n",
       " 36,\n",
       " 49,\n",
       " 64,\n",
       " 81,\n",
       " 100,\n",
       " 121,\n",
       " 144,\n",
       " 169,\n",
       " 196,\n",
       " 225,\n",
       " 256,\n",
       " 289,\n",
       " 324,\n",
       " 361,\n",
       " 400]"
      ]
     },
     "execution_count": 26,
     "metadata": {},
     "output_type": "execute_result"
    }
   ],
   "source": [
    "[number * number for number in range (1,21)]"
   ]
  },
  {
   "cell_type": "code",
   "execution_count": 27,
   "id": "0cc999fe",
   "metadata": {},
   "outputs": [
    {
     "data": {
      "text/plain": [
       "{1: 1, 2: 4, 3: 9, 4: 16, 5: 25, 6: 36, 7: 49, 8: 64, 9: 81, 10: 100}"
      ]
     },
     "execution_count": 27,
     "metadata": {},
     "output_type": "execute_result"
    }
   ],
   "source": [
    "# lets create dictionary with key as number and values as square of number\n",
    "\n",
    "{number: number * number for number in range (1,11)}"
   ]
  },
  {
   "cell_type": "code",
   "execution_count": 29,
   "id": "3f250f72",
   "metadata": {},
   "outputs": [
    {
     "data": {
      "text/plain": [
       "{11: 121,\n",
       " 12: 144,\n",
       " 13: 169,\n",
       " 14: 196,\n",
       " 15: 225,\n",
       " 16: 256,\n",
       " 17: 289,\n",
       " 18: 324,\n",
       " 19: 361,\n",
       " 20: 400}"
      ]
     },
     "execution_count": 29,
     "metadata": {},
     "output_type": "execute_result"
    }
   ],
   "source": [
    "{number: number * number for number in range (11,21)}"
   ]
  },
  {
   "cell_type": "code",
   "execution_count": 31,
   "id": "50187090",
   "metadata": {},
   "outputs": [],
   "source": [
    "items = [\n",
    "    {'name': 'xyz', 'price' : 100.5},\n",
    "    {'name': 'apple', 'price': 1.5},\n",
    "    {'name': 'banana', 'price': 0.75},\n",
    "    {'name': 't-shirt', 'price': 25.99},\n",
    "    {'name': 'notebook', 'price': 4.5}\n",
    "]"
   ]
  },
  {
   "cell_type": "code",
   "execution_count": 32,
   "id": "90726325",
   "metadata": {},
   "outputs": [
    {
     "data": {
      "text/plain": [
       "133.24"
      ]
     },
     "execution_count": 32,
     "metadata": {},
     "output_type": "execute_result"
    }
   ],
   "source": [
    "# sum of price of all items\n",
    "from functools import reduce\n",
    "sum([item['price'] for item in items])"
   ]
  },
  {
   "cell_type": "code",
   "execution_count": 33,
   "id": "ba762d10",
   "metadata": {},
   "outputs": [
    {
     "data": {
      "text/plain": [
       "[{'name': 'xyz', 'price': 102.0075},\n",
       " {'name': 'apple', 'price': 1.5225},\n",
       " {'name': 'banana', 'price': 0.76125},\n",
       " {'name': 't-shirt', 'price': 26.379849999999998},\n",
       " {'name': 'notebook', 'price': 4.5675}]"
      ]
     },
     "execution_count": 33,
     "metadata": {},
     "output_type": "execute_result"
    }
   ],
   "source": [
    "[{'name': item['name'], 'price': item['price'] * 1.015} for item in items]"
   ]
  }
 ],
 "metadata": {
  "kernelspec": {
   "display_name": "Python 3",
   "language": "python",
   "name": "python3"
  },
  "language_info": {
   "codemirror_mode": {
    "name": "ipython",
    "version": 3
   },
   "file_extension": ".py",
   "mimetype": "text/x-python",
   "name": "python",
   "nbconvert_exporter": "python",
   "pygments_lexer": "ipython3",
   "version": "3.11.9"
  }
 },
 "nbformat": 4,
 "nbformat_minor": 5
}
