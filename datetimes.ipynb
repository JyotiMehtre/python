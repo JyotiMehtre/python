{
 "cells": [
  {
   "cell_type": "code",
   "execution_count": 1,
   "id": "fe5ca8d9",
   "metadata": {},
   "outputs": [],
   "source": [
    "from datetime import date"
   ]
  },
  {
   "cell_type": "code",
   "execution_count": 2,
   "id": "6a831df6",
   "metadata": {},
   "outputs": [
    {
     "name": "stdout",
     "output_type": "stream",
     "text": [
      "2025-10-15\n",
      "day => 9, month => 10, year => 2025\n"
     ]
    }
   ],
   "source": [
    "x = date(2025,10,9)\n",
    "print(x.today())\n",
    "print(f\"day => {x.day}, month => {x.month}, year => {x.year}\")"
   ]
  },
  {
   "cell_type": "code",
   "execution_count": 3,
   "id": "137098a3",
   "metadata": {},
   "outputs": [
    {
     "data": {
      "text/plain": [
       "datetime.date(2025, 10, 9)"
      ]
     },
     "execution_count": 3,
     "metadata": {},
     "output_type": "execute_result"
    }
   ],
   "source": [
    "x"
   ]
  },
  {
   "cell_type": "markdown",
   "id": "3b42ef62",
   "metadata": {},
   "source": [
    "Converting date into string"
   ]
  },
  {
   "cell_type": "code",
   "execution_count": 4,
   "id": "0994bd0e",
   "metadata": {},
   "outputs": [
    {
     "data": {
      "text/plain": [
       "'2025-10-09'"
      ]
     },
     "execution_count": 4,
     "metadata": {},
     "output_type": "execute_result"
    }
   ],
   "source": [
    "str(x)"
   ]
  },
  {
   "cell_type": "code",
   "execution_count": 6,
   "id": "06b4bdbc",
   "metadata": {},
   "outputs": [
    {
     "data": {
      "text/plain": [
       "'09/10/25'"
      ]
     },
     "execution_count": 6,
     "metadata": {},
     "output_type": "execute_result"
    }
   ],
   "source": [
    "x.strftime(\"%d/%m/%y\")"
   ]
  },
  {
   "cell_type": "code",
   "execution_count": 7,
   "id": "43ccbfdb",
   "metadata": {},
   "outputs": [
    {
     "data": {
      "text/plain": [
       "'09-Oct-25'"
      ]
     },
     "execution_count": 7,
     "metadata": {},
     "output_type": "execute_result"
    }
   ],
   "source": [
    "x.strftime(\"%d-%b-%y\")"
   ]
  },
  {
   "cell_type": "code",
   "execution_count": 8,
   "id": "af9f201d",
   "metadata": {},
   "outputs": [
    {
     "data": {
      "text/plain": [
       "'Thursday'"
      ]
     },
     "execution_count": 8,
     "metadata": {},
     "output_type": "execute_result"
    }
   ],
   "source": [
    "x.strftime(\"%A\")"
   ]
  },
  {
   "cell_type": "code",
   "execution_count": 9,
   "id": "4d480cb0",
   "metadata": {},
   "outputs": [
    {
     "data": {
      "text/plain": [
       "'08:28:00'"
      ]
     },
     "execution_count": 9,
     "metadata": {},
     "output_type": "execute_result"
    }
   ],
   "source": [
    "from datetime import time\n",
    "\n",
    "y = time(hour=8,minute=28)\n",
    "str(y)"
   ]
  },
  {
   "cell_type": "code",
   "execution_count": 10,
   "id": "45303beb",
   "metadata": {},
   "outputs": [],
   "source": [
    "from datetime import datetime\n"
   ]
  },
  {
   "cell_type": "code",
   "execution_count": 11,
   "id": "6e0b537e",
   "metadata": {},
   "outputs": [
    {
     "data": {
      "text/plain": [
       "datetime.datetime(2025, 10, 15, 19, 24, 43, 747256)"
      ]
     },
     "execution_count": 11,
     "metadata": {},
     "output_type": "execute_result"
    }
   ],
   "source": [
    "#system time\n",
    "datetime.now()"
   ]
  },
  {
   "cell_type": "code",
   "execution_count": 12,
   "id": "1212ebff",
   "metadata": {},
   "outputs": [
    {
     "data": {
      "text/plain": [
       "datetime.datetime(2025, 10, 15, 13, 55, 21, 829907)"
      ]
     },
     "execution_count": 12,
     "metadata": {},
     "output_type": "execute_result"
    }
   ],
   "source": [
    "datetime.utcnow()"
   ]
  },
  {
   "cell_type": "code",
   "execution_count": 13,
   "id": "b9f9ea5e",
   "metadata": {},
   "outputs": [],
   "source": [
    "when = datetime.now()"
   ]
  },
  {
   "cell_type": "code",
   "execution_count": 14,
   "id": "d566c894",
   "metadata": {},
   "outputs": [
    {
     "data": {
      "text/plain": [
       "'25 Wednesday 19'"
      ]
     },
     "execution_count": 14,
     "metadata": {},
     "output_type": "execute_result"
    }
   ],
   "source": [
    "when.strftime(\"%y %A %H\")"
   ]
  },
  {
   "cell_type": "markdown",
   "id": "c4bb951d",
   "metadata": {},
   "source": [
    "Converting string into date time"
   ]
  },
  {
   "cell_type": "code",
   "execution_count": 15,
   "id": "1c3bf69e",
   "metadata": {},
   "outputs": [],
   "source": [
    "when_in_string = \"10-10-23\""
   ]
  },
  {
   "cell_type": "code",
   "execution_count": 19,
   "id": "8262101e",
   "metadata": {},
   "outputs": [
    {
     "data": {
      "text/plain": [
       "datetime.datetime(2023, 10, 10, 0, 0)"
      ]
     },
     "execution_count": 19,
     "metadata": {},
     "output_type": "execute_result"
    }
   ],
   "source": [
    "datetime.strptime(when_in_string, \"%d-%m-%y\")"
   ]
  },
  {
   "cell_type": "code",
   "execution_count": 20,
   "id": "ca4c57f0",
   "metadata": {},
   "outputs": [],
   "source": [
    "when_in_string = \"10-10-23 16:00:00\""
   ]
  },
  {
   "cell_type": "code",
   "execution_count": 21,
   "id": "53db4950",
   "metadata": {},
   "outputs": [
    {
     "data": {
      "text/plain": [
       "datetime.datetime(2023, 10, 10, 16, 0)"
      ]
     },
     "execution_count": 21,
     "metadata": {},
     "output_type": "execute_result"
    }
   ],
   "source": [
    "datetime.strptime(when_in_string, \"%d-%m-%y %H:%M:%S\")"
   ]
  },
  {
   "cell_type": "code",
   "execution_count": 24,
   "id": "ab51c662",
   "metadata": {},
   "outputs": [],
   "source": [
    "when_in_datetime= datetime.strptime(when_in_string, \"%d-%m-%y %H:%M:%S\")"
   ]
  },
  {
   "cell_type": "code",
   "execution_count": 25,
   "id": "fe593ce9",
   "metadata": {},
   "outputs": [
    {
     "data": {
      "text/plain": [
       "1696933800.0"
      ]
     },
     "execution_count": 25,
     "metadata": {},
     "output_type": "execute_result"
    }
   ],
   "source": [
    "when_in_datetime.timestamp()"
   ]
  },
  {
   "cell_type": "code",
   "execution_count": 26,
   "id": "ee23ad45",
   "metadata": {},
   "outputs": [],
   "source": [
    "today = date.today()"
   ]
  }
 ],
 "metadata": {
  "kernelspec": {
   "display_name": "Python 3",
   "language": "python",
   "name": "python3"
  },
  "language_info": {
   "codemirror_mode": {
    "name": "ipython",
    "version": 3
   },
   "file_extension": ".py",
   "mimetype": "text/x-python",
   "name": "python",
   "nbconvert_exporter": "python",
   "pygments_lexer": "ipython3",
   "version": "3.11.9"
  }
 },
 "nbformat": 4,
 "nbformat_minor": 5
}
