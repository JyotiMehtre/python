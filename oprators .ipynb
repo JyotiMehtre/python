{
 "cells": [
  {
   "cell_type": "markdown",
   "id": "3835f4f0",
   "metadata": {},
   "source": [
    "# python operators"
   ]
  },
  {
   "cell_type": "code",
   "execution_count": 1,
   "id": "f8482886",
   "metadata": {},
   "outputs": [
    {
     "data": {
      "text/plain": [
       "56"
      ]
     },
     "execution_count": 1,
     "metadata": {},
     "output_type": "execute_result"
    }
   ],
   "source": [
    "7 * 8 + 6 // 5 * 4 % 2"
   ]
  },
  {
   "cell_type": "code",
   "execution_count": 2,
   "id": "6d5fa274",
   "metadata": {},
   "outputs": [],
   "source": [
    "def factorial(number: int) -> int:\n",
    "    \"\"\"Calculates factorial of a number\n",
    "\n",
    "    Args:\n",
    "        number (int): number passed\n",
    "\n",
    "    Returns:\n",
    "        int: factorial\n",
    "    \"\"\"\n",
    "    index = 1\n",
    "    result = 1\n",
    "    while index <= number:\n",
    "        result = result * index\n",
    "        index += 1\n",
    "    return result"
   ]
  },
  {
   "cell_type": "code",
   "execution_count": 4,
   "id": "edde74bf",
   "metadata": {},
   "outputs": [],
   "source": [
    "def lcm(start:int = 1, end:int = 10) -> int:\n",
    "    \"\"\"Lcm of a sequence\n",
    "\n",
    "    Args:\n",
    "        start (int, optional): start value. Defaults to 1.\n",
    "        end (int, optional): end value. Defaults to 10.\n",
    "\n",
    "    Returns:\n",
    "        int: lcm\n",
    "    \"\"\"\n",
    "    factor = end * (end -1)\n",
    "    max = factorial(end)\n",
    "    result = 0\n",
    "    #check if factor is divisible by all numbers in a sequence\n",
    "    # if not increment by factor\n",
    "    while factor <= max:\n",
    "        index = start\n",
    "        is_lcm = True\n",
    "        while index <= end:\n",
    "            if factor % index !=0:\n",
    "                is_lcm = False\n",
    "                break\n",
    "            index += 1\n",
    "        if is_lcm:\n",
    "            result = factor\n",
    "            break\n",
    "        factor += end * (end - 1)\n",
    "    return result"
   ]
  },
  {
   "cell_type": "code",
   "execution_count": 5,
   "id": "a435bf55",
   "metadata": {},
   "outputs": [
    {
     "data": {
      "text/plain": [
       "60"
      ]
     },
     "execution_count": 5,
     "metadata": {},
     "output_type": "execute_result"
    }
   ],
   "source": [
    "lcm(start=1, end=5)"
   ]
  },
  {
   "cell_type": "code",
   "execution_count": 6,
   "id": "9b27397e",
   "metadata": {},
   "outputs": [
    {
     "data": {
      "text/plain": [
       "2520"
      ]
     },
     "execution_count": 6,
     "metadata": {},
     "output_type": "execute_result"
    }
   ],
   "source": [
    "lcm()"
   ]
  },
  {
   "cell_type": "code",
   "execution_count": 7,
   "id": "2c603da4",
   "metadata": {},
   "outputs": [
    {
     "data": {
      "text/plain": [
       "232792560"
      ]
     },
     "execution_count": 7,
     "metadata": {},
     "output_type": "execute_result"
    }
   ],
   "source": [
    "lcm(end=20)"
   ]
  },
  {
   "cell_type": "code",
   "execution_count": 8,
   "id": "b61238f9",
   "metadata": {},
   "outputs": [
    {
     "name": "stdout",
     "output_type": "stream",
     "text": [
      "25164150\n"
     ]
    }
   ],
   "source": [
    "# Project euler 6\n",
    "start = 1\n",
    "end = 100\n",
    "index = 1\n",
    "sum_of_squares = 0\n",
    "square_of_sum = 0\n",
    "while index <= end:\n",
    "    sum_of_squares += index * index\n",
    "    index += 1\n",
    "\n",
    "square_of_sum = (end * (end + 1) // 2) ** 2\n",
    "\n",
    "result = square_of_sum - sum_of_squares\n",
    "print(result)"
   ]
  },
  {
   "cell_type": "code",
   "execution_count": 9,
   "id": "214a3a31",
   "metadata": {},
   "outputs": [],
   "source": [
    "def is_prime(number:int) -> bool:\n",
    "    \"\"\"Checks if the number is prime or not\n",
    "\n",
    "    Args:\n",
    "        number (int): number\n",
    "\n",
    "    Returns:\n",
    "        bool: True if prime False otherwise\n",
    "    \"\"\"\n",
    "    if number < 2:\n",
    "        return False\n",
    "    result = True\n",
    "    index = 2\n",
    "    while index <= number // 2:\n",
    "        if number % index == 0:\n",
    "            result = False\n",
    "            break\n",
    "        index += 1\n",
    "    return result"
   ]
  },
  {
   "cell_type": "code",
   "execution_count": 10,
   "id": "6ad65e11",
   "metadata": {},
   "outputs": [
    {
     "data": {
      "text/plain": [
       "13"
      ]
     },
     "execution_count": 10,
     "metadata": {},
     "output_type": "execute_result"
    }
   ],
   "source": [
    "def nth_prime(n:int) -> int:\n",
    "    \"\"\"Returns the nth prime\n",
    "\n",
    "    Args:\n",
    "        n (int): n\n",
    "\n",
    "    Returns:\n",
    "        int: prime number\n",
    "\n",
    "    Examples:\n",
    "      nth_prime(1) = 2\n",
    "      nth_prime(2) = 3\n",
    "      ..\n",
    "      nth_prime(6) = 13\n",
    "    \"\"\"\n",
    "\n",
    "    index = 2\n",
    "    result = 0\n",
    "    count = 0\n",
    "    while True:\n",
    "        if is_prime(index):\n",
    "            count += 1\n",
    "            if count == n:\n",
    "                result = index\n",
    "                break\n",
    "\n",
    "        index += 1\n",
    "    return result\n",
    "nth_prime(6)"
   ]
  },
  {
   "cell_type": "code",
   "execution_count": 11,
   "id": "cafeee19",
   "metadata": {},
   "outputs": [],
   "source": [
    "def is_prime(number: int) -> bool:\n",
    "    \"\"\"Checks if the number is prime or not\n",
    "\n",
    "    Args:\n",
    "        number (int): number\n",
    "\n",
    "    Returns:\n",
    "        bool: True if prime False otherwise\n",
    "    \"\"\"\n",
    "    if number < 2:\n",
    "        return False\n",
    "    \n",
    "    for index in range(2, number // 2 + 1):\n",
    "        if number % index == 0:\n",
    "            return False\n",
    "    return True"
   ]
  },
  {
   "cell_type": "code",
   "execution_count": 14,
   "id": "6e7da14a",
   "metadata": {},
   "outputs": [],
   "source": [
    "def nth_prime(n:int) -> int:\n",
    "    \"\"\"Return the nth prime number\n",
    "\n",
    "    Args:\n",
    "        n (int): n\n",
    "\n",
    "    Returns:\n",
    "        int: prime number\n",
    "\n",
    "    examples\n",
    "    nth_prime(1) = 2\n",
    "    nth_prime(2) = 3\n",
    "    ..\n",
    "    nth_prime(6) = 13\n",
    "    \"\"\"\n",
    "    index = 2 \n",
    "    result = 0\n",
    "    count = 0\n",
    "    while True:\n",
    "        if is_prime(index):\n",
    "            count += 1\n",
    "            if count == n:\n",
    "                result = index\n",
    "                break\n",
    "\n",
    "        index += 1\n",
    "    return result"
   ]
  },
  {
   "cell_type": "code",
   "execution_count": 15,
   "id": "0d3a1064",
   "metadata": {},
   "outputs": [
    {
     "data": {
      "text/plain": [
       "13"
      ]
     },
     "execution_count": 15,
     "metadata": {},
     "output_type": "execute_result"
    }
   ],
   "source": [
    "nth_prime(6)"
   ]
  },
  {
   "cell_type": "code",
   "execution_count": 16,
   "id": "1910e3e3",
   "metadata": {},
   "outputs": [
    {
     "data": {
      "text/plain": [
       "104743"
      ]
     },
     "execution_count": 16,
     "metadata": {},
     "output_type": "execute_result"
    }
   ],
   "source": [
    "nth_prime(10001)"
   ]
  }
 ],
 "metadata": {
  "kernelspec": {
   "display_name": "Python 3",
   "language": "python",
   "name": "python3"
  },
  "language_info": {
   "codemirror_mode": {
    "name": "ipython",
    "version": 3
   },
   "file_extension": ".py",
   "mimetype": "text/x-python",
   "name": "python",
   "nbconvert_exporter": "python",
   "pygments_lexer": "ipython3",
   "version": "3.13.2"
  }
 },
 "nbformat": 4,
 "nbformat_minor": 5
}
