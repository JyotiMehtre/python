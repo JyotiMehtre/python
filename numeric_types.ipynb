{
 "cells": [
  {
   "cell_type": "markdown",
   "id": "6cd47b26",
   "metadata": {},
   "source": [
    "## Exploring numeric datatypes\n"
   ]
  },
  {
   "cell_type": "code",
   "execution_count": 5,
   "id": "97c4d072",
   "metadata": {},
   "outputs": [
    {
     "name": "stdout",
     "output_type": "stream",
     "text": [
      "5\n",
      "<class 'int'>\n"
     ]
    }
   ],
   "source": [
    "index = 5\n",
    "print(index)\n",
    "print(type(index))"
   ]
  },
  {
   "cell_type": "code",
   "execution_count": 6,
   "id": "ed04063d",
   "metadata": {},
   "outputs": [
    {
     "name": "stdout",
     "output_type": "stream",
     "text": [
      "3.14\n",
      "<class 'float'>\n"
     ]
    }
   ],
   "source": [
    "pi = 3.14\n",
    "print(pi)\n",
    "print(type(pi))"
   ]
  },
  {
   "cell_type": "code",
   "execution_count": 7,
   "id": "9fec3c12",
   "metadata": {},
   "outputs": [
    {
     "name": "stdout",
     "output_type": "stream",
     "text": [
      "(4+3j)\n",
      "<class 'complex'>\n"
     ]
    }
   ],
   "source": [
    "c1 = 4 + 3j\n",
    "print(c1)\n",
    "print(type(c1))"
   ]
  },
  {
   "cell_type": "code",
   "execution_count": 8,
   "id": "61afcafc",
   "metadata": {},
   "outputs": [
    {
     "name": "stdout",
     "output_type": "stream",
     "text": [
      "12\n",
      "<class 'int'>\n"
     ]
    }
   ],
   "source": [
    "a = 12\n",
    "print(a)\n",
    "print(type(a))"
   ]
  },
  {
   "cell_type": "code",
   "execution_count": 10,
   "id": "a68f62bd",
   "metadata": {},
   "outputs": [
    {
     "name": "stdout",
     "output_type": "stream",
     "text": [
      "37\n",
      "<class 'int'>\n",
      "<class 'int'>\n"
     ]
    }
   ],
   "source": [
    "a = 12\n",
    "b = 25\n",
    "print(a + b)\n",
    "print(type(a))\n",
    "print(type(b))"
   ]
  },
  {
   "cell_type": "code",
   "execution_count": 12,
   "id": "4e67e283",
   "metadata": {},
   "outputs": [
    {
     "name": "stdout",
     "output_type": "stream",
     "text": [
      "hellojyoti\n",
      "<class 'str'>\n"
     ]
    }
   ],
   "source": [
    "a = \"hello\"\n",
    "b = \"jyoti\"\n",
    "print(a + b)\n",
    "print(type(a))"
   ]
  },
  {
   "cell_type": "markdown",
   "id": "8cd9b7a6",
   "metadata": {},
   "source": [
    "#Arthmetic & Assinment oprators"
   ]
  },
  {
   "cell_type": "code",
   "execution_count": 13,
   "id": "d2e176e2",
   "metadata": {},
   "outputs": [
    {
     "name": "stdout",
     "output_type": "stream",
     "text": [
      "10000\n",
      "10000\n"
     ]
    }
   ],
   "source": [
    "amount = 10000\n",
    "print(amount)\n",
    "amount*5\n",
    "print(amount)"
   ]
  },
  {
   "cell_type": "code",
   "execution_count": 14,
   "id": "9cb609a8",
   "metadata": {},
   "outputs": [
    {
     "name": "stdout",
     "output_type": "stream",
     "text": [
      "10000\n",
      "50000\n"
     ]
    }
   ],
   "source": [
    "amount= 10000\n",
    "print(amount)\n",
    "amount = amount*5\n",
    "print(amount)"
   ]
  },
  {
   "cell_type": "code",
   "execution_count": 15,
   "id": "3155d439",
   "metadata": {},
   "outputs": [
    {
     "name": "stdout",
     "output_type": "stream",
     "text": [
      "6\n"
     ]
    }
   ],
   "source": [
    "index = 5\n",
    "index +=1\n",
    "print(index)"
   ]
  },
  {
   "cell_type": "markdown",
   "id": "c47a71de",
   "metadata": {},
   "source": [
    "#simple interest"
   ]
  },
  {
   "cell_type": "code",
   "execution_count": 20,
   "id": "52262a6b",
   "metadata": {},
   "outputs": [
    {
     "data": {
      "text/plain": [
       "3200.0"
      ]
     },
     "execution_count": 20,
     "metadata": {},
     "output_type": "execute_result"
    }
   ],
   "source": [
    "principal = 10000\n",
    "time = 2\n",
    "rate = 16\n",
    "\n",
    "simple_interest = principal * time * rate /100\n",
    "simple_interest"
   ]
  },
  {
   "cell_type": "code",
   "execution_count": 23,
   "id": "3903b68e",
   "metadata": {},
   "outputs": [
    {
     "data": {
      "text/plain": [
       "21003.416575999992"
      ]
     },
     "execution_count": 23,
     "metadata": {},
     "output_type": "execute_result"
    }
   ],
   "source": [
    "n = 1\n",
    "rate = 16/100\n",
    "time = 5\n",
    "principal = 10000\n",
    "\n",
    "x = 1 + rate\n",
    "y = x ** time\n",
    "amount = principal * y\n",
    "amount"
   ]
  },
  {
   "cell_type": "code",
   "execution_count": 25,
   "id": "b8a91ca9",
   "metadata": {},
   "outputs": [
    {
     "data": {
      "text/plain": [
       "21003.416575999992"
      ]
     },
     "execution_count": 25,
     "metadata": {},
     "output_type": "execute_result"
    }
   ],
   "source": [
    "amount = principal * (1 + (rate/n)) **(n*time)\n",
    "amount"
   ]
  }
 ],
 "metadata": {
  "kernelspec": {
   "display_name": "Python 3",
   "language": "python",
   "name": "python3"
  },
  "language_info": {
   "codemirror_mode": {
    "name": "ipython",
    "version": 3
   },
   "file_extension": ".py",
   "mimetype": "text/x-python",
   "name": "python",
   "nbconvert_exporter": "python",
   "pygments_lexer": "ipython3",
   "version": "3.13.2"
  }
 },
 "nbformat": 4,
 "nbformat_minor": 5
}
