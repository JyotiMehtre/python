{
 "cells": [
  {
   "cell_type": "markdown",
   "id": "309a238b",
   "metadata": {},
   "source": [
    "#lists and tuples"
   ]
  },
  {
   "cell_type": "code",
   "execution_count": 5,
   "id": "bd1e3e5c",
   "metadata": {},
   "outputs": [],
   "source": [
    "fav_colors = [\"white\", \"black\" ]\n",
    "fav_movie = ('marvel', 'ironman')"
   ]
  },
  {
   "cell_type": "code",
   "execution_count": 6,
   "id": "07fa0008",
   "metadata": {},
   "outputs": [
    {
     "data": {
      "text/plain": [
       "list"
      ]
     },
     "execution_count": 6,
     "metadata": {},
     "output_type": "execute_result"
    }
   ],
   "source": [
    "type(fav_colors)"
   ]
  },
  {
   "cell_type": "code",
   "execution_count": 7,
   "id": "562f7403",
   "metadata": {},
   "outputs": [
    {
     "data": {
      "text/plain": [
       "tuple"
      ]
     },
     "execution_count": 7,
     "metadata": {},
     "output_type": "execute_result"
    }
   ],
   "source": [
    "type(fav_movie)"
   ]
  },
  {
   "cell_type": "code",
   "execution_count": 9,
   "id": "c8e24f88",
   "metadata": {},
   "outputs": [
    {
     "data": {
      "text/plain": [
       "'marvel'"
      ]
     },
     "execution_count": 9,
     "metadata": {},
     "output_type": "execute_result"
    }
   ],
   "source": [
    "fav_movie[0]"
   ]
  },
  {
   "cell_type": "code",
   "execution_count": 10,
   "id": "9be6a38d",
   "metadata": {},
   "outputs": [
    {
     "data": {
      "text/plain": [
       "'black'"
      ]
     },
     "execution_count": 10,
     "metadata": {},
     "output_type": "execute_result"
    }
   ],
   "source": [
    "fav_colors[1]"
   ]
  },
  {
   "cell_type": "code",
   "execution_count": 2,
   "id": "37758c48",
   "metadata": {},
   "outputs": [],
   "source": [
    "even_numbers = [2,4,6,8,10,12,14]\n",
    "odd_numbers = [1,3,5,7,9,11,13]"
   ]
  },
  {
   "cell_type": "code",
   "execution_count": 3,
   "id": "1f35b6ac",
   "metadata": {},
   "outputs": [
    {
     "data": {
      "text/plain": [
       "8"
      ]
     },
     "execution_count": 3,
     "metadata": {},
     "output_type": "execute_result"
    }
   ],
   "source": [
    "even_numbers[3]"
   ]
  },
  {
   "cell_type": "code",
   "execution_count": 13,
   "id": "322a6dfa",
   "metadata": {},
   "outputs": [
    {
     "data": {
      "text/plain": [
       "11"
      ]
     },
     "execution_count": 13,
     "metadata": {},
     "output_type": "execute_result"
    }
   ],
   "source": [
    "odd_numbers[5]"
   ]
  },
  {
   "cell_type": "code",
   "execution_count": 14,
   "id": "8195e6db",
   "metadata": {},
   "outputs": [
    {
     "data": {
      "text/plain": [
       "13"
      ]
     },
     "execution_count": 14,
     "metadata": {},
     "output_type": "execute_result"
    }
   ],
   "source": [
    "odd_numbers[-1]"
   ]
  },
  {
   "cell_type": "code",
   "execution_count": 15,
   "id": "375ff118",
   "metadata": {},
   "outputs": [
    {
     "data": {
      "text/plain": [
       "6"
      ]
     },
     "execution_count": 15,
     "metadata": {},
     "output_type": "execute_result"
    }
   ],
   "source": [
    "even_numbers[-5]"
   ]
  },
  {
   "cell_type": "code",
   "execution_count": null,
   "id": "b261cd9f",
   "metadata": {},
   "outputs": [
    {
     "data": {
      "text/plain": [
       "[2, 4, 6, 8, 10, 12, 14]"
      ]
     },
     "execution_count": 16,
     "metadata": {},
     "output_type": "execute_result"
    }
   ],
   "source": [
    "even_numbers"
   ]
  },
  {
   "cell_type": "code",
   "execution_count": 19,
   "id": "bfb92c06",
   "metadata": {},
   "outputs": [
    {
     "data": {
      "text/plain": [
       "[1, 3, 5, 7, 9, 11, 13]"
      ]
     },
     "execution_count": 19,
     "metadata": {},
     "output_type": "execute_result"
    }
   ],
   "source": [
    "odd_numbers"
   ]
  },
  {
   "cell_type": "code",
   "execution_count": 21,
   "id": "5cfff8f3",
   "metadata": {},
   "outputs": [
    {
     "name": "stdout",
     "output_type": "stream",
     "text": [
      "2,6,10,14,"
     ]
    }
   ],
   "source": [
    "# i want alternate items\n",
    "index = 0\n",
    "# len\n",
    "while index < len(even_numbers):\n",
    "    if index % 2 == 0:\n",
    "        print(even_numbers[index], sep=\"\", end=\",\")\n",
    "    index += 1"
   ]
  },
  {
   "cell_type": "markdown",
   "id": "a344d324",
   "metadata": {},
   "source": [
    "# slicing"
   ]
  },
  {
   "cell_type": "code",
   "execution_count": 22,
   "id": "68b03252",
   "metadata": {},
   "outputs": [
    {
     "name": "stdout",
     "output_type": "stream",
     "text": [
      "[2, 4, 6, 8, 10, 12, 14]\n",
      "[6, 8, 10, 12, 14]\n",
      "[2, 6, 10, 14]\n",
      "[4, 8, 12]\n"
     ]
    }
   ],
   "source": [
    "print(even_numbers)\n",
    "#start from index 2\n",
    "print(even_numbers[2::])\n",
    "#start from 0 and print alternate values\n",
    "print(even_numbers[::2])\n",
    "#start from 1 and print alternative values\n",
    "print(even_numbers[1::2])"
   ]
  },
  {
   "cell_type": "code",
   "execution_count": 4,
   "id": "f81bbb16",
   "metadata": {},
   "outputs": [
    {
     "name": "stdout",
     "output_type": "stream",
     "text": [
      "[14, 12, 10, 8, 6, 4, 2]\n",
      "[10, 8]\n"
     ]
    }
   ],
   "source": [
    "print(even_numbers[::-1])\n",
    "print(even_numbers[4:2:-1])"
   ]
  },
  {
   "cell_type": "code",
   "execution_count": 6,
   "id": "dfa968e8",
   "metadata": {},
   "outputs": [],
   "source": [
    "#list operations\n",
    "\n",
    "even_numbers = [2,4,6]\n",
    "odd_numbers = [1,3,5]\n",
    "all_numbers = [1,2,3,4,5,6]"
   ]
  },
  {
   "cell_type": "code",
   "execution_count": 7,
   "id": "645172a3",
   "metadata": {},
   "outputs": [
    {
     "data": {
      "text/plain": [
       "[2, 4, 6, 1, 3, 5]"
      ]
     },
     "execution_count": 7,
     "metadata": {},
     "output_type": "execute_result"
    }
   ],
   "source": [
    "even_numbers + odd_numbers"
   ]
  },
  {
   "cell_type": "code",
   "execution_count": 8,
   "id": "19fa9076",
   "metadata": {},
   "outputs": [
    {
     "data": {
      "text/plain": [
       "[2, 4, 6, 2, 4, 6]"
      ]
     },
     "execution_count": 8,
     "metadata": {},
     "output_type": "execute_result"
    }
   ],
   "source": [
    "even_numbers * 2"
   ]
  },
  {
   "cell_type": "code",
   "execution_count": 9,
   "id": "b53e7450",
   "metadata": {},
   "outputs": [
    {
     "name": "stdout",
     "output_type": "stream",
     "text": [
      "[2, 4, 6]\n",
      "[0, 4, 6]\n"
     ]
    }
   ],
   "source": [
    "print(even_numbers)\n",
    "even_numbers[0] = 0\n",
    "print(even_numbers)"
   ]
  },
  {
   "cell_type": "code",
   "execution_count": 10,
   "id": "fb549d3a",
   "metadata": {},
   "outputs": [
    {
     "data": {
      "text/plain": [
       "[1, 2, 3, 4, 5, 6]"
      ]
     },
     "execution_count": 10,
     "metadata": {},
     "output_type": "execute_result"
    }
   ],
   "source": [
    "all_numbers"
   ]
  },
  {
   "cell_type": "code",
   "execution_count": 11,
   "id": "8cc5f114",
   "metadata": {},
   "outputs": [
    {
     "data": {
      "text/plain": [
       "[1, 2, 3, 4, 5, 6, 7]"
      ]
     },
     "execution_count": 11,
     "metadata": {},
     "output_type": "execute_result"
    }
   ],
   "source": [
    "all_numbers.append(7)\n",
    "all_numbers"
   ]
  },
  {
   "cell_type": "code",
   "execution_count": 12,
   "id": "03ec7132",
   "metadata": {},
   "outputs": [
    {
     "data": {
      "text/plain": [
       "[1, 2, 3, 4, 5, 6]"
      ]
     },
     "execution_count": 12,
     "metadata": {},
     "output_type": "execute_result"
    }
   ],
   "source": [
    "all_numbers.remove(7)\n",
    "all_numbers"
   ]
  },
  {
   "cell_type": "code",
   "execution_count": 13,
   "id": "0e54b376",
   "metadata": {},
   "outputs": [
    {
     "name": "stdout",
     "output_type": "stream",
     "text": [
      "[1, 2, 3, 4, 5, 6]\n"
     ]
    },
    {
     "data": {
      "text/plain": [
       "[1, 2, 3, 4, 5, 6, 100, 110]"
      ]
     },
     "execution_count": 13,
     "metadata": {},
     "output_type": "execute_result"
    }
   ],
   "source": [
    "print(all_numbers)\n",
    "random_numbers = [100,110]\n",
    "all_numbers.extend(random_numbers)\n",
    "all_numbers"
   ]
  },
  {
   "cell_type": "code",
   "execution_count": 14,
   "id": "7edf4962",
   "metadata": {},
   "outputs": [
    {
     "name": "stdout",
     "output_type": "stream",
     "text": [
      "1\n",
      "2\n",
      "3\n",
      "4\n",
      "5\n",
      "6\n",
      "100\n",
      "110\n"
     ]
    }
   ],
   "source": [
    "#iterating a list\n",
    "index = 0\n",
    "while index < len(all_numbers):\n",
    "    print (all_numbers[index])\n",
    "    index += 1"
   ]
  },
  {
   "cell_type": "markdown",
   "id": "4addfe1b",
   "metadata": {},
   "source": [
    "For each loop"
   ]
  },
  {
   "cell_type": "code",
   "execution_count": 15,
   "id": "d629e01d",
   "metadata": {},
   "outputs": [
    {
     "name": "stdout",
     "output_type": "stream",
     "text": [
      "1\n",
      "2\n",
      "3\n",
      "4\n",
      "5\n",
      "6\n",
      "100\n",
      "110\n"
     ]
    }
   ],
   "source": [
    "for number in all_numbers:\n",
    "    print(number)"
   ]
  },
  {
   "cell_type": "code",
   "execution_count": 16,
   "id": "11647fb8",
   "metadata": {},
   "outputs": [
    {
     "name": "stdout",
     "output_type": "stream",
     "text": [
      "<class 'tuple'>\n",
      "1\n",
      "2\n",
      "3\n",
      "4\n",
      "5\n",
      "6\n",
      "100\n",
      "110\n"
     ]
    }
   ],
   "source": [
    "all_numbers_tuple = tuple(all_numbers)\n",
    "print(type(all_numbers_tuple))\n",
    "for number in all_numbers_tuple:\n",
    "    print(number)"
   ]
  },
  {
   "cell_type": "code",
   "execution_count": 17,
   "id": "a72e33d4",
   "metadata": {},
   "outputs": [
    {
     "name": "stdout",
     "output_type": "stream",
     "text": [
      "H\n",
      "e\n",
      "l\n",
      "l\n",
      "o\n"
     ]
    }
   ],
   "source": [
    "message = \"Hello\"\n",
    "for m in message:\n",
    "    print(m)"
   ]
  }
 ],
 "metadata": {
  "kernelspec": {
   "display_name": "Python 3",
   "language": "python",
   "name": "python3"
  },
  "language_info": {
   "codemirror_mode": {
    "name": "ipython",
    "version": 3
   },
   "file_extension": ".py",
   "mimetype": "text/x-python",
   "name": "python",
   "nbconvert_exporter": "python",
   "pygments_lexer": "ipython3",
   "version": "3.13.2"
  }
 },
 "nbformat": 4,
 "nbformat_minor": 5
}
